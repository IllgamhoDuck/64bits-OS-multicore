{
 "cells": [
  {
   "cell_type": "markdown",
   "metadata": {},
   "source": [
    "# Cygwin\n",
    "\n",
    "For window 10 users"
   ]
  },
  {
   "cell_type": "markdown",
   "metadata": {},
   "source": [
    "1. Download cygwin - ([Download](https://www.cygwin.com/install.html))\n",
    "    - I downloaded `32 bits` because the book was based on it\n",
    "2. Install cygwin **(In case of versions, I installed the most recent ones!)**\n",
    "    - binutils (source & binary)\n",
    "    - bison (binary)\n",
    "    - flex (binary)\n",
    "    - gcc-core (source & binary)\n",
    "    - gcc-g++ (binary)\n",
    "    - libiconv (binary)\n",
    "    - libtool (binary)\n",
    "    - make (binary)\n",
    "    - patchutils (binary)\n",
    "    - libgmp-devel (binary)\n",
    "    - libmpfr-devel (binary)\n",
    "3. Set environment path\n",
    "    - C:\\cygwin\\bin\n",
    "    - C:\\cygwin\\usr\\cross\\bin\n",
    "4. Test"
   ]
  },
  {
   "cell_type": "code",
   "execution_count": null,
   "metadata": {},
   "outputs": [],
   "source": [
    "# make this with test.c file\n",
    "#include <stdio.h>\n",
    "\n",
    "int main(int argc, char **argv)\n",
    "{\n",
    "    printf(\"Hello, world\\n\");\n",
    "    return 0;\n",
    "}"
   ]
  },
  {
   "cell_type": "code",
   "execution_count": null,
   "metadata": {},
   "outputs": [],
   "source": [
    "gcc -m32 -o test32 test.c\n",
    "gcc -m64 -o test64 test.c"
   ]
  },
  {
   "cell_type": "markdown",
   "metadata": {},
   "source": [
    "If you downloaded `32 bits` it won't work at `-m64`.<br>\n",
    "If you downloaded as `64 bits` it won't work at `m32`."
   ]
  },
  {
   "cell_type": "markdown",
   "metadata": {},
   "source": [
    "5. Make cross compiler for 32/64 bits\n",
    "    - open the `cygwin terminal`"
   ]
  },
  {
   "cell_type": "code",
   "execution_count": null,
   "metadata": {},
   "outputs": [],
   "source": [
    "cd /usr/src/binutils-2.34-1.src/\n",
    "\n",
    "# unzip\n",
    "tar -xvf binutils-gdb-2.34.tar.bz2\n",
    "cd binutils-gdb\n",
    "\n",
    "export TARGET=x86_64-pc-linux\n",
    "export PREFIX=/usr/cross\n",
    "\n",
    "./configure --target=$TARGET\n",
    "            --prefix $PREFIX\n",
    "            --enable-64-bit-bfd\n",
    "            --disable-shared\n",
    "            --disable-nls\n",
    "            \n",
    "make configure-host"
   ]
  },
  {
   "cell_type": "markdown",
   "metadata": {},
   "source": [
    "If following error appears it means you don't have `texinfo` package"
   ]
  },
  {
   "cell_type": "code",
   "execution_count": null,
   "metadata": {},
   "outputs": [],
   "source": [
    "/usr/src/binutils-2.34-1.src/binutils-gdb/missing: line 81: makeinfo: command not found\n",
    "WARNING: 'makeinfo' is missing on your system.\n",
    "         You should only need it if you modified a '.texi' file, or\n",
    "         any other file indirectly affecting the aspect of the manual.\n",
    "         You might want to install the Texinfo package:\n",
    "         <http://www.gnu.org/software/texinfo/>\n",
    "         The spurious makeinfo call might also be the consequence of\n",
    "         using a buggy 'make' (AIX, DU, IRIX), in which case you might\n",
    "         want to install GNU make:\n",
    "         <http://www.gnu.org/software/make/>\n",
    "make[2]: *** [Makefile:541: bfd.info] Error 127\n",
    "make[2]: Leaving directory '/usr/src/binutils-2.34-1.src/binutils-gdb/bfd/doc'\n",
    "make[1]: *** [Makefile:1654: info-recursive] Error 1\n",
    "make[1]: Leaving directory '/usr/src/binutils-2.34-1.src/binutils-gdb/bfd'\n",
    "make: *** [Makefile:2753: all-bfd] Error 2\n"
   ]
  },
  {
   "cell_type": "markdown",
   "metadata": {},
   "source": [
    "***The following steps should be done in `powershell administrator`*** unless it will cause an error!\n",
    "\n",
    "For window10 user let's install `chocolately`\n",
    "- **Install chocolately**\n",
    "- https://chocolatey.org/\n",
    "\n",
    "The `texinfo` is included to the following package! Install it!\n",
    "- Install **GnuWin 0.6.3**\n",
    "- https://chocolatey.org/packages/GnuWin/0.6.3#files"
   ]
  },
  {
   "cell_type": "code",
   "execution_count": null,
   "metadata": {},
   "outputs": [],
   "source": [
    "choco install gnuwin --version=0.6.3"
   ]
  },
  {
   "cell_type": "markdown",
   "metadata": {},
   "source": [
    "When you finished it let's go back to installing `binutils`"
   ]
  },
  {
   "cell_type": "code",
   "execution_count": null,
   "metadata": {},
   "outputs": [],
   "source": [
    "# If there was error previously we type again. If there was not then skip this line\n",
    "make configure-host\n",
    "\n",
    "make LDFLAGS=\"-all-static\""
   ]
  },
  {
   "cell_type": "markdown",
   "metadata": {},
   "source": [
    "`-all-static` problem occurs"
   ]
  },
  {
   "cell_type": "code",
   "execution_count": null,
   "metadata": {},
   "outputs": [],
   "source": [
    "  GEN    init.c\n",
    "    CXX    init.o\n",
    "  CXXLD  gdb.exe\n",
    "g++: error: unrecognized command line option ‘-all-static’; did you mean ‘--static’?\n",
    "make[2]: *** [Makefile:1841: gdb.exe] Error 1\n",
    "make[2]: Leaving directory '/usr/src/binutils-2.34-1.src/binutils-gdb/gdb'\n",
    "make[1]: *** [Makefile:11280: all-gdb] Error 2\n",
    "make[1]: Leaving directory '/usr/src/binutils-2.34-1.src/binutils-gdb'\n",
    "make: *** [Makefile:857: all] Error 2\n"
   ]
  },
  {
   "cell_type": "markdown",
   "metadata": {},
   "source": [
    "This problem is discussed on here https://github.com/JuliaPackaging/BinaryBuilder.jl/issues/372\n",
    "\n",
    "and the suggested solution is "
   ]
  },
  {
   "cell_type": "code",
   "execution_count": null,
   "metadata": {},
   "outputs": [],
   "source": [
    "./configure LDFLAGS=-static; make LDFLAGS=-all-static"
   ]
  },
  {
   "cell_type": "markdown",
   "metadata": {},
   "source": [
    "modified a bit with adding some options"
   ]
  },
  {
   "cell_type": "code",
   "execution_count": null,
   "metadata": {},
   "outputs": [],
   "source": [
    "./configure --target=$TARGET --prefix=$PREFIX --enable-64-bit-bfd --disable-shared --disable-nls LDFLAGS=-static"
   ]
  },
  {
   "cell_type": "markdown",
   "metadata": {},
   "source": [
    "Another error occurs because we added `LDFLAGS=-static`"
   ]
  },
  {
   "cell_type": "code",
   "execution_count": null,
   "metadata": {},
   "outputs": [],
   "source": [
    "# We configured again so do this again\n",
    "$  make configure-host\n",
    "\n",
    "Configuring in ./libiberty\n",
    "configure: loading cache ./config.cache\n",
    "configure: error: `LDFLAGS' has changed since the previous run:\n",
    "configure:   former value:  ` -Wl,--stack,12582912'\n",
    "configure:   current value: ` -static -Wl,--stack,12582912'\n",
    "configure: error: in `/usr/src/binutils-2.34-1.src/binutils-gdb/libiberty':\n",
    "configure: error: changes in the environment can compromise the build\n",
    "configure: error: run `make distclean' and/or `rm ./config.cache' and start over\n",
    "make: *** [Makefile:8346: configure-libiberty] Error 1"
   ]
  },
  {
   "cell_type": "markdown",
   "metadata": {},
   "source": [
    "So we had to remove `config.cache` files from `libiberty` as error message says"
   ]
  },
  {
   "cell_type": "code",
   "execution_count": null,
   "metadata": {},
   "outputs": [],
   "source": [
    "make distclean\n",
    "\n",
    "cd libiberty\n",
    "rm ./config.cache\n",
    "cd ..\n",
    "\n",
    "./configure --target=$TARGET --prefix=$PREFIX --enable-64-bit-bfd --disable-shared --disable-nls LDFLAGS=-static\n",
    "make LDFLAGS=-all-static"
   ]
  },
  {
   "cell_type": "markdown",
   "metadata": {},
   "source": [
    "This cause another error"
   ]
  },
  {
   "cell_type": "code",
   "execution_count": null,
   "metadata": {},
   "outputs": [],
   "source": [
    "Configuring in ./intl\n",
    "configure: loading cache ./config.cache\n",
    "configure: error: `LDFLAGS' has changed since the previous run:\n",
    "configure:   former value:  ` -Wl,--stack,12582912'\n",
    "configure:   current value: ` -static -Wl,--stack,12582912'\n",
    "configure: error: in `/usr/src/binutils-2.34-1.src/binutils-gdb/intl':\n"
   ]
  },
  {
   "cell_type": "markdown",
   "metadata": {},
   "source": [
    "Maybe this is not the end. Rather suffering from cache I decided to start over"
   ]
  },
  {
   "cell_type": "code",
   "execution_count": null,
   "metadata": {},
   "outputs": [],
   "source": [
    "# remove the binutils-gdb folder\n",
    "cd ..\n",
    "rm -rf binutils-gdb\n",
    "tar -xvf binutils-gdb-2.34.tar.bz2\n",
    "\n",
    "cd binutills-gdb\n",
    "./configure --target=$TARGET --prefix=$PREFIX --enable-64-bit-bfd --disable-shared --disable-nls LDFLAGS=-static\n",
    "make configure-host\n",
    "make LDFLAGS=--static"
   ]
  },
  {
   "cell_type": "markdown",
   "metadata": {},
   "source": [
    "It still fails. Doing again. This time do it directly with static"
   ]
  },
  {
   "cell_type": "code",
   "execution_count": null,
   "metadata": {},
   "outputs": [],
   "source": [
    "./configure --target=$TARGET --prefix=$PREFIX --enable-64-bit-bfd --disable-shared --disable-nls\n",
    "make configure-host\n",
    "make LDFLAGS=--static"
   ]
  },
  {
   "cell_type": "code",
   "execution_count": null,
   "metadata": {},
   "outputs": [],
   "source": [
    "/usr/lib/gcc/i686-pc-cygwin/9.3.0/../../../../i686-pc-cygwin/bin/ld: cannot find -lmpfr\n",
    "/usr/lib/gcc/i686-pc-cygwin/9.3.0/../../../../i686-pc-cygwin/bin/ld: cannot find -lgmp"
   ]
  },
  {
   "cell_type": "markdown",
   "metadata": {},
   "source": [
    "looking at the following page ran the following command\n",
    "\n",
    "https://stackoverflow.com/questions/30128309/cygwin-gcc-error-while-loading-shared-libraries"
   ]
  },
  {
   "cell_type": "code",
   "execution_count": null,
   "metadata": {},
   "outputs": [],
   "source": [
    "$ cygcheck /usr/lib/gcc/i686-pc-cygwin/9.3.0/cc1.exe\n",
    "\n",
    "# Following results\n",
    "C:\\cygwin\\lib\\gcc\\i686-pc-cygwin\\9.3.0\\cc1.exe\n",
    "  C:\\cygwin\\bin\\cygwin1.dll\n",
    "    C:\\WINDOWS\\system32\\KERNEL32.dll\n",
    "      C:\\WINDOWS\\system32\\ntdll.dll\n",
    "      C:\\WINDOWS\\system32\\KERNELBASE.dll\n",
    "  C:\\cygwin\\bin\\cyggmp-10.dll\n",
    "  C:\\cygwin\\bin\\cygiconv-2.dll\n",
    "  C:\\cygwin\\bin\\cygintl-8.dll\n",
    "  C:\\cygwin\\bin\\cygisl-22.dll\n",
    "  C:\\cygwin\\bin\\cygmpc-3.dll\n",
    "    C:\\cygwin\\bin\\cygmpfr-6.dll\n",
    "      C:\\cygwin\\bin\\cyggcc_s-1.dll\n",
    "  C:\\cygwin\\bin\\cygz.dll"
   ]
  },
  {
   "cell_type": "markdown",
   "metadata": {},
   "source": [
    "Well Not successful this time.. So I decided to reference the `OSdev wiki with GCC Cross-Compiler`. **Now let's start over!** I removed `C:\\cygwin` to start totally again!\n",
    "\n",
    "**Windows Users**\n",
    "\n",
    "https://wiki.osdev.org/GCC_Cross-Compiler#Windows_Users\n",
    "\n",
    "Windows users need to set up a Unix-like enviroment such as MinGW or Cygwin. It may well be worth looking into systems such as Linux and see if they fit your needs, as you commonly use a lot of Unix-like tools in operating systems development and this is much easier from a Unix-like operating system. If you have just installed the basic Cygwin package, you have to run the setup.exe again and install the following packages: `GCC, G++, Make, Flex, Bison, Diffutils, libintl-devel, libgmp-devel, libmpfr-devel, libmpc-devel, Texinfo`"
   ]
  },
  {
   "cell_type": "markdown",
   "metadata": {},
   "source": [
    "**Download cygwin (32 bits)**\n",
    "- **binutils (source & binary)**\n",
    "- Diffutils (binary)\n",
    "- bison (binary)\n",
    "- flex (binary)\n",
    "- **gcc-core (source & binary)**\n",
    "- gcc-g++ (binary)\n",
    "- libiconv (binary)\n",
    "- libtool (binary)\n",
    "- make (binary)\n",
    "- patchutils (binary)\n",
    "- libintl-devel (binary)\n",
    "- libgmp-devel (binary)\n",
    "- libmpfr-devel (binary)\n",
    "- libmpc-devel (binary)\n",
    "- Texinfo (binary)\n"
   ]
  },
  {
   "cell_type": "code",
   "execution_count": null,
   "metadata": {},
   "outputs": [],
   "source": [
    "export TARGET=x86_64-pc-linux\n",
    "export PREFIX=/usr/cross\n",
    "\n",
    "# add --disable-werror & --with-sysroot referenced by OSdev wiki\n",
    "./configure --target=$TARGET --prefix=$PREFIX --with-sysroot --disable-werror --enable-64-bit-bfd --disable-shared --disable-nls\n",
    "make configure-host\n",
    "make LDFLAGS=--static"
   ]
  },
  {
   "cell_type": "markdown",
   "metadata": {},
   "source": [
    "Still the same problem happens.."
   ]
  },
  {
   "cell_type": "code",
   "execution_count": null,
   "metadata": {},
   "outputs": [],
   "source": [
    "/usr/lib/gcc/i686-pc-cygwin/9.3.0/../../../../i686-pc-cygwin/bin/ld: cannot find -lmpfr\n",
    "/usr/lib/gcc/i686-pc-cygwin/9.3.0/../../../../i686-pc-cygwin/bin/ld: cannot find -lgmp"
   ]
  },
  {
   "cell_type": "markdown",
   "metadata": {},
   "source": [
    "https://stackoverflow.com/questions/42436350/cygwin-linker-doesnt-find-shared-library\n",
    "\n",
    "This stackoverflow tells `cygwin` expects to have library in `.dll` extension.\n",
    "\n",
    "I went to `/usr/lib`and **found that `mpfr` and `gmp` has no static library only dynamic**\n",
    "- `libmpfr.dll.a`\n",
    "- `libgmp.dll.a` \n",
    "\n",
    "we need\n",
    "\n",
    "- `libmpfr.a`\n",
    "- `libgmp.a`\n",
    "\n",
    "This is not quiet right but just simply created symbolic link\n",
    "\n",
    "- `ln -s libmpfr.dll.a libmpfr.a`\n",
    "- `ln -s libgmp.dll.a libgmp.a` "
   ]
  },
  {
   "cell_type": "code",
   "execution_count": null,
   "metadata": {},
   "outputs": [],
   "source": [
    "make LDFLAGS=--static"
   ]
  },
  {
   "cell_type": "code",
   "execution_count": null,
   "metadata": {},
   "outputs": [],
   "source": [
    "# still an error\n",
    "\n",
    "make[2]: Entering directory '/usr/src/binutils-2.34-1.src/binutils-gdb/gdb'\n",
    "  CXXLD  gdb.exe\n",
    "/usr/lib/gcc/i686-pc-cygwin/9.3.0/../../../../i686-pc-cygwin/bin/ld: disasm-selftests.o: in function `Z28_initialize_disasm_selftestsv':\n",
    "/usr/src/binutils-2.34-1.src/binutils-gdb/gdb/disasm-selftests.c:218: undefined reference to `selftests::register_test_foreach_arch(std::string const&, void (*)(gdbarch*))'\n",
    "/usr/lib/gcc/i686-pc-cygwin/9.3.0/../../../../i686-pc-cygwin/bin/ld: /usr/src/binutils-2.34-1.sr\n",
    "/usr/src/binutils-2.34-1.src/binutils-gdb/gdb/dwarf2-frame.c:2376: undefined reference to `selftests::register_test_foreach_c/binutils-gdb/gdb/disasm-selftests.c:220: undefined reference to `selftests::register_test_foreach_arch(std::string const&, void (*)(gdbarch*))'\n",
    "/usr/lib/gcc/i686-pc-cygwin/9.3.0/../../../../i686-pc-cygwin/bin/ld: dwarf2-frame.o: in function `Z24_initialize_dwarf2_framev':arch(std::string const&, void (*)(gdbarch*))'\n",
    "/usr/lib/gcc/i686-pc-cygwin/9.3.0/../../../../i686-pc-cygwin/bin/ld: gdbarch-selftests.o: in function `Z29_initialize_gdbarch_selftestsv':\n",
    "/usr/src/binutils-2.34-1.src/binutils-gdb/gdb/gdbarch-selftests.c:168: undefined reference to `selftests::register_test_foreach_arch(std::string const&, void (*)(gdbarch*))'\n",
    "/usr/lib/gcc/i686-pc-cygwin/9.3.0/../../../../i686-pc-cygwin/bin/ld: regcache.o: in function `Z20_initialize_regcachev':\n",
    "/usr/src/binutils-2.34-1.src/binutils-gdb/gdb/regcache.c:1874: undefined reference to `selftests::register_test_foreach_arch(std::string const&, void (*)(gdbarch*))'\n",
    "/usr/lib/gcc/i686-pc-cygwin/9.3.0/../../../../i686-pc-cygwin/bin/ld: regcache.o:/usr/src/binutils-2.34-1.src/binutils-gdb/gdb/regcache.c:1876: more undefined references to `selftests::register_test_foreach_arch(std::string const&, void (*)(gdbarch*))' follow\n",
    "/usr/lib/gcc/i686-pc-cygwin/9.3.0/../../../../i686-pc-cygwin/bin/ld: ../gdbsupport/libgdbsupport.a(selftest.o): in function `ZN9selftests9run_testsEPKc':\n",
    "/usr/src/binutils-2.34-1.src/binutils-gdb/gdbsupport/selftest.c:96: undefined reference to `selftests::reset()'\n",
    "collect2: error: ld returned 1 exit status\n"
   ]
  },
  {
   "cell_type": "code",
   "execution_count": null,
   "metadata": {},
   "outputs": [],
   "source": [
    "# Tried to find this register_test_foreach_arch\n",
    "\n",
    "$ grep -rn register_test_foreach_arch\n",
    "\n",
    "# results\n",
    "ChangeLog-2017:7671:    (register_test_foreach_arch): Add name parameter.  Call\n",
    "ChangeLog-2017:7676:    * selftest-arch.h (register_test_foreach_arch): Add name\n",
    "ChangeLog-2017:9831:    selftests::register_test_foreach_arch.\n",
    "disasm-selftests.c:218:  selftests::register_test_foreach_arch (\"print_one_insn\",\n",
    "disasm-selftests.c:220:  selftests::register_test_foreach_arch (\"memory_error\",\n",
    "Binary file disasm-selftests.o matches\n",
    "dwarf2-frame.c:2376:  selftests::register_test_foreach_arch (\"execute_cfa_program\",\n",
    "Binary file dwarf2-frame.o matches\n",
    "gdbarch-selftests.c:168:  selftests::register_test_foreach_arch (\"register_to_value\",\n",
    "Binary file gdbarch-selftests.o matches\n",
    "regcache.c:1874:  selftests::register_test_foreach_arch (\"regcache::cooked_read_test\",\n",
    "regcache.c:1876:  selftests::register_test_foreach_arch (\"regcache::cooked_write_test\",\n",
    "Binary file regcache.o matches\n",
    "                                                         \n",
    "# This seems the place where I was finding for                                                         \n",
    "selftest-arch.c:92:register_test_foreach_arch (const std::string &name,\n",
    "selftest-arch.h:27:  register_test_foreach_arch (const std::string &name,\n",
    "                                                 \n",
    "unittests/unpack-selftests.c:60:  selftests::register_test_foreach_arch\n"
   ]
  },
  {
   "cell_type": "code",
   "execution_count": null,
   "metadata": {},
   "outputs": [],
   "source": [
    "# selftest-arch.c:92\n",
    "void\n",
    "register_test_foreach_arch (const std::string &name,\n",
    "                            self_test_foreach_arch_function *function)\n",
    "{\n",
    "  register_test (name, new gdbarch_selftest (function));\n",
    "}\n",
    "\n",
    "# selftest-arch.h:27\n",
    "namespace selftests\n",
    "{\n",
    "extern void\n",
    "  register_test_foreach_arch (const std::string &name,\n",
    "                              self_test_foreach_arch_function *function);\n",
    "}\n",
    "\n",
    "# disasm-selftests.c\n",
    "\n",
    "#include \"defs.h\"\n",
    "#include \"disasm.h\"\n",
    "\n",
    "#if GDB_SELF_TEST\n",
    "#include \"gdbsupport/selftest.h\"\n",
    "#include \"selftest-arch.h\"\n",
    "#include \"gdbarch.h\"\n",
    "\n",
    "namespace selftests {\n",
    "\n",
    "/* Test disassembly of one instruction.  */\n",
    "----- blah blah blah\n",
    "} // namespace selftests\n",
    "#endif /* GDB_SELF_TEST */\n",
    "\n",
    "void _initialize_disasm_selftests ();\n",
    "void\n",
    "_initialize_disasm_selftests ()\n",
    "{\n",
    "#if GDB_SELF_TEST\n",
    "  selftests::register_test_foreach_arch (\"print_one_insn\",\n",
    "                                         selftests::print_one_insn_test);\n",
    "  selftests::register_test_foreach_arch (\"memory_error\",\n",
    "                                         selftests::memory_error_test);\n",
    "#endif\n",
    "}\n"
   ]
  },
  {
   "cell_type": "markdown",
   "metadata": {},
   "source": [
    "Let's look at the object file"
   ]
  },
  {
   "cell_type": "code",
   "execution_count": null,
   "metadata": {},
   "outputs": [],
   "source": [
    "# -C option is same as c++filt\n",
    "$ nm -C disasm-selftests.o\n",
    "\n",
    "00000000 b .bss\n",
    "00000000 d .data\n",
    "00000000 N .debug_abbrev\n",
    "00000000 N .debug_aranges\n",
    "00000000 N .debug_info\n",
    "00000000 N .debug_line\n",
    "00000000 N .debug_loc\n",
    "00000000 N .debug_ranges\n",
    "00000000 N .debug_str\n",
    "00000000 r .eh_frame\n",
    "00000000 d .gcc_except_table\n",
    "00000000 r .rdata\n",
    "00000000 r .rdata$_ZTI13gdb_exception\n",
    "00000000 r .rdata$_ZTI19gdb_exception_error\n",
    "00000000 r .rdata$_ZTS13gdb_exception\n",
    "00000000 r .rdata$_ZTS19gdb_exception_error\n",
    "00000000 r .rdata$zzz\n",
    "00000000 t .text\n",
    "00000000 t .text.unlikely\n",
    "         U _Unwind_Resume\n",
    "         U gdbarch_bfd_arch_info(gdbarch*)\n",
    "00000340 T _initialize_disasm_selftests()\n",
    "00000090 t _initialize_disasm_selftests() [clone .cold]\n",
    "         U gdbarch_breakpoint_kind_from_pc(gdbarch*, unsigned long long*)\n",
    "         U gdbarch_sw_breakpoint_from_kind(gdbarch*, int, int*)\n",
    "         U error(char const*, ...)\n",
    "         U gdb_disassembler::print_insn(unsigned long long, int*)\n",
    "         U gdb_disassembler::gdb_disassembler(gdbarch*, ui_file*, int (*)(unsigned long long, unsigned char*, unsigned int, disassemble_info*))\n",
    "         \n",
    "         # We can see this option is Undefined..\n",
    "         U selftests::register_test_foreach_arch(std::string const&, void (*)(gdbarch*))\n",
    "000000e0 t selftests::memory_error_test(gdbarch*)\n",
    "00000000 t selftests::memory_error_test(gdbarch*) [clone .cold]\n",
    "00000160 t selftests::print_one_insn_test(gdbarch*)\n",
    "0000006c t selftests::print_one_insn_test(gdbarch*) [clone .cold]\n",
    "         U std::string::_Rep::_M_destroy(std::allocator<char> const&)\n",
    "000000b0 t std::string::_Rep::_M_dispose(std::allocator<char> const&) [clone .part.0]\n",
    "         U std::string::_Rep::_S_empty_rep_storage\n",
    "         U std::basic_string<char, std::char_traits<char>, std::allocator<char> >::basic_string(char const*, std::allocator<char> const&)\n",
    "00000000 R typeinfo for gdb_exception\n",
    "00000000 R typeinfo for gdb_exception_error\n",
    "00000000 R typeinfo name for gdb_exception\n",
    "00000000 R typeinfo name for gdb_exception_error\n",
    "         U vtable for __cxxabiv1::__class_type_info\n",
    "         U vtable for __cxxabiv1::__si_class_type_info\n",
    "000000a0 t selftests::memory_error_test(gdbarch*)::gdb_disassembler_test::read_memory(unsigned long long, unsigned char*, unsigned int, disassemble_info*)\n",
    "00000180 r selftests::print_one_insn_test(gdbarch*)::xstormy16_insn\n",
    "00000184 r selftests::print_one_insn_test(gdbarch*)::arm_insn\n",
    "00000188 r selftests::print_one_insn_test(gdbarch*)::bfin_insn\n",
    "00000182 r selftests::print_one_insn_test(gdbarch*)::s390_insn\n",
    "00000000 t selftests::print_one_insn_test(gdbarch*)::gdb_disassembler_test::read_memory(unsigned long long, unsigned char*, unsigned int, disassemble_info*)\n",
    "         U __cxa_begin_catch\n",
    "         U __cxa_end_catch\n",
    "         U __gxx_personality_v0\n",
    "         U __umoddi3\n",
    "         U null_stream\n"
   ]
  },
  {
   "cell_type": "code",
   "execution_count": null,
   "metadata": {},
   "outputs": [],
   "source": [
    "U selftests::register_test_foreach_arch(std::string const&, void (*)(gdbarch*))"
   ]
  }
 ],
 "metadata": {
  "kernelspec": {
   "display_name": "Python 3",
   "language": "python",
   "name": "python3"
  },
  "language_info": {
   "codemirror_mode": {
    "name": "ipython",
    "version": 3
   },
   "file_extension": ".py",
   "mimetype": "text/x-python",
   "name": "python",
   "nbconvert_exporter": "python",
   "pygments_lexer": "ipython3",
   "version": "3.7.7"
  }
 },
 "nbformat": 4,
 "nbformat_minor": 4
}
