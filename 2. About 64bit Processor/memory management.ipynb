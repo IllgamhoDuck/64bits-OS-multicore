{
 "cells": [
  {
   "cell_type": "markdown",
   "metadata": {},
   "source": [
    "## Operation mode and memory management\n",
    "\n",
    "https://www.tutorialspoint.com/operating_system/os_memory_management.htm\n",
    "\n",
    "At here we only consider `segmentation` and `paging`\n",
    "\n",
    "- `segmentation`\n",
    "    - choose the memory size as I want\n",
    "    - set up the address at segment register pointing at segment starting address or data structure called descriptor\n",
    "- `paging`\n",
    "    - size of the chunk memory is chosen\n",
    "    - available when we set the `CR3`'s page directory(data structure) physical address\n",
    "\n",
    "https://en.wikipedia.org/wiki/X86_memory_segmentation\n",
    "\n",
    "**Real mode**\n",
    "- 1MB address area\n",
    "- only support segmentation\n",
    "- segment size is fixed to `64K`\n",
    "- `segment starting address` is set up manually at segment register\n",
    "- `segment starting address` is used as base address when we assess to code or memory\n",
    "\n",
    "In real mode or V86 mode, the size of a segment can range from 1 byte up to 65,536 bytes (using 16-bit offsets).\n",
    "\n",
    "The 16-bit segment selector in the segment register is interpreted as the most significant 16 bits of a linear 20-bit address, called a segment address, of which the remaining four least significant bits are all zeros. The segment address is always added to a 16-bit offset in the instruction to yield a linear address, which is the same as physical address in this mode. For instance, the segmented address 06EFh:1234h (here the suffix \"h\" means hexadecimal) has a segment selector of 06EFh, representing a segment address of 06EF0h, to which the offset is added, yielding the linear address 06EF0h + 1234h = 08124h.\n",
    "\n",
    "\n",
    "<tt>&nbsp; </tt><tt style=\"background:#DED\">0000 0110 1110 1111</tt><tt>&nbsp;0000</tt>\n",
    "**Segment**\n",
    "16 bits, shifted 4 bits left (or multiplied by 0x10)\n",
    "<br>\n",
    "<tt>+ &nbsp;&nbsp;&nbsp;&nbsp; </tt><tt style=\"background:#DDF\">0001 0010 0011 0100</tt>\n",
    "**Offset**\n",
    "&nbsp;&nbsp;&nbsp;&nbsp; 16 bits\n",
    "<tt>&nbsp; &nbsp;&nbsp;&nbsp;&nbsp;&nbsp;&nbsp;&nbsp;&nbsp; &nbsp;&nbsp;&nbsp;&nbsp; &nbsp;&nbsp;&nbsp;&nbsp; &nbsp;&nbsp;&nbsp;&nbsp;&nbsp;</tt>\n",
    "\n",
    "--------------------------------------------------------------\n",
    "\n",
    "<tt>&nbsp; </tt><tt style=\"background:#FDF\">0000 1000 0001 0010 0100</tt>\n",
    "**Address**\n",
    "&nbsp; 20 bits\n",
    "<br>\n",
    "![rm](https://upload.wikimedia.org/wikipedia/commons/thumb/d/db/Overlapping_realmode_segments.svg/300px-Overlapping_realmode_segments.svg.png)"
   ]
  },
  {
   "cell_type": "code",
   "execution_count": null,
   "metadata": {},
   "outputs": [],
   "source": [
    "\n"
   ]
  }
 ],
 "metadata": {
  "kernelspec": {
   "display_name": "Python 3",
   "language": "python",
   "name": "python3"
  },
  "language_info": {
   "codemirror_mode": {
    "name": "ipython",
    "version": 3
   },
   "file_extension": ".py",
   "mimetype": "text/x-python",
   "name": "python",
   "nbconvert_exporter": "python",
   "pygments_lexer": "ipython3",
   "version": "3.7.7"
  }
 },
 "nbformat": 4,
 "nbformat_minor": 4
}
