{
 "cells": [
  {
   "cell_type": "markdown",
   "metadata": {},
   "source": [
    "# Operation mode\n",
    "\n",
    "There is 5 types of operation mode at `intel 64 bit compatible processor x86-64 processor`\n",
    "\n",
    "1. 16 bits real mode\n",
    "    - https://stackoverflow.com/questions/8020213/what-is-a-16-bit-real-mode-os\n",
    "2. 32 bits protected mode\n",
    "    - https://en.wikipedia.org/wiki/Protected_mode\n",
    "3. 64 bits IA-32e mode\n",
    "    - https://www.tomshardware.com/reviews/processor-cpu-apu-specifications-upgrade,3566-5.html\n",
    "4. System management mode\n",
    "    - https://en.wikipedia.org/wiki/System_Management_Mode\n",
    "5. Virtual 8086 mode\n",
    "     - https://en.wikipedia.org/wiki/Virtual_8086_mode"
   ]
  },
  {
   "cell_type": "code",
   "execution_count": null,
   "metadata": {},
   "outputs": [],
   "source": []
  }
 ],
 "metadata": {
  "kernelspec": {
   "display_name": "Python 3",
   "language": "python",
   "name": "python3"
  },
  "language_info": {
   "codemirror_mode": {
    "name": "ipython",
    "version": 3
   },
   "file_extension": ".py",
   "mimetype": "text/x-python",
   "name": "python",
   "nbconvert_exporter": "python",
   "pygments_lexer": "ipython3",
   "version": "3.7.7"
  }
 },
 "nbformat": 4,
 "nbformat_minor": 4
}
